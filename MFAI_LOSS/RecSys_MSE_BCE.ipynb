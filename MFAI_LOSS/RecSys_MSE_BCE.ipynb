{
 "cells": [
  {
   "cell_type": "code",
   "execution_count": 1,
   "metadata": {},
   "outputs": [],
   "source": [
    "import pandas as pd\n",
    "import os\n",
    "import numpy as np\n",
    "import time\n",
    "\n",
    "import torch\n",
    "import torch.nn as nn\n",
    "from torch.utils.data import Dataset, DataLoader"
   ]
  },
  {
   "cell_type": "markdown",
   "metadata": {},
   "source": [
    "# Data Process"
   ]
  },
  {
   "cell_type": "code",
   "execution_count": 2,
   "metadata": {},
   "outputs": [],
   "source": [
    "user_size = 6040\n",
    "item_size = 3760"
   ]
  },
  {
   "cell_type": "code",
   "execution_count": 3,
   "metadata": {},
   "outputs": [],
   "source": [
    "DATA_DIR = './processed_data/ml-1m/'"
   ]
  },
  {
   "cell_type": "code",
   "execution_count": 4,
   "metadata": {},
   "outputs": [],
   "source": [
    "train_df = pd.read_csv(os.path.join(DATA_DIR,'train.csv'), usecols = ['user','item'], header = 0)"
   ]
  },
  {
   "cell_type": "code",
   "execution_count": 5,
   "metadata": {},
   "outputs": [],
   "source": [
    "movieId_set = set(np.arange(item_size))\n",
    "\n",
    "u_dict = train_df.groupby('user')['item'].apply(list).to_dict()"
   ]
  },
  {
   "cell_type": "code",
   "execution_count": 6,
   "metadata": {},
   "outputs": [],
   "source": [
    "class BCEDataset(Dataset):\n",
    "\n",
    "    def __init__(self, users, items, labels):\n",
    "\n",
    "        self.users = users\n",
    "        self.items = items\n",
    "        self.labels = labels\n",
    "\n",
    "    def __len__(self):\n",
    "\n",
    "        return len(self.users)\n",
    "\n",
    "    def __getitem__(self, idx):\n",
    "\n",
    "        user = self.users[idx]\n",
    "        item = self.items[idx]\n",
    "        label = self.labels[idx]\n",
    "\n",
    "        sample = {'user':user, 'item':item, 'label':label}\n",
    "\n",
    "        return sample"
   ]
  },
  {
   "cell_type": "code",
   "execution_count": 7,
   "metadata": {},
   "outputs": [],
   "source": [
    "def bce_getTrain(N, train_batch_size):\n",
    "        '''\n",
    "        N: num of negative samples\n",
    "        '''\n",
    "\n",
    "        train_u = []\n",
    "        train_i = []\n",
    "        train_l = []\n",
    "        \n",
    "        u_list = train_df['user'].values.tolist()\n",
    "        i_list = train_df['item'].values.tolist()\n",
    "      \n",
    "\n",
    "        for index in range(len(u_list)):\n",
    "            u = u_list[index]\n",
    "            i = i_list[index]\n",
    "            train_u.extend([u]*(N+1))\n",
    "            train_i.append(i)\n",
    "            train_l.append(1)\n",
    "            train_l.extend([0]*N)\n",
    "            PositiveSet = set(u_dict[u]) \n",
    "\n",
    "            for t in range(N):# sample negative items\n",
    "                neg_i = np.random.randint(0, item_size)\n",
    "                while neg_i in PositiveSet:\n",
    "                    neg_i = np.random.randint(0, item_size)\n",
    "                train_i.append(neg_i)\n",
    "\n",
    "        train_dataset = BCEDataset(train_u, train_i, train_l)\n",
    "        train_dataloader = DataLoader(train_dataset,\n",
    "                                      batch_size = train_batch_size, \n",
    "                                      shuffle = True,\n",
    "                                      num_workers = 4,\n",
    "                                      pin_memory = True,\n",
    "                                     )\n",
    "\n",
    "        return train_dataloader"
   ]
  },
  {
   "cell_type": "markdown",
   "metadata": {},
   "source": [
    "# Model"
   ]
  },
  {
   "cell_type": "code",
   "execution_count": 8,
   "metadata": {},
   "outputs": [],
   "source": [
    "class GMF(nn.Module):\n",
    "    \n",
    "    def __init__(self, user_size, item_size, embed_size):\n",
    "        super().__init__()\n",
    "        \n",
    "        self.user_size = user_size\n",
    "        self.item_size = item_size\n",
    "        self.embed_size = embed_size\n",
    "        \n",
    "        self.embedding_user = nn.Embedding(user_size, embed_size)\n",
    "        nn.init.xavier_uniform_(self.embedding_user.weight)\n",
    "        \n",
    "        self.embedding_item = nn.Embedding(item_size, embed_size)\n",
    "        nn.init.xavier_uniform_(self.embedding_item.weight)\n",
    "        \n",
    "        \n",
    "    def forward(self, user, item):\n",
    "        \n",
    "        user_embedding = self.embedding_user(user)\n",
    "        item_embedding = self.embedding_item(item)\n",
    "        \n",
    "        user_vec = user_embedding.view([-1, embed_size])\n",
    "        item_vec = item_embedding.view([-1, embed_size])\n",
    "        \n",
    "        dot = torch.sum(torch.mul(user_vec, item_vec), dim = 1).view(-1)\n",
    "\n",
    "        return dot"
   ]
  },
  {
   "cell_type": "markdown",
   "metadata": {},
   "source": [
    "# Hyperparameters"
   ]
  },
  {
   "cell_type": "code",
   "execution_count": 9,
   "metadata": {},
   "outputs": [],
   "source": [
    "device = torch.device('cuda:0' if torch.cuda.is_available() else 'cpu')\n",
    "\n",
    "\n",
    "train_batch_size = 128\n",
    "\n",
    "embed_size = 16\n",
    "\n",
    "learning_rate = 0.001\n",
    "\n",
    "epochs = 20"
   ]
  },
  {
   "cell_type": "markdown",
   "metadata": {},
   "source": [
    "# Training "
   ]
  },
  {
   "cell_type": "code",
   "execution_count": 10,
   "metadata": {},
   "outputs": [],
   "source": [
    "model = GMF(user_size, item_size, embed_size).to(device)\n",
    "\n",
    "loss_function = nn.MSELoss()\n",
    "#loss_function = nn.BCELoss()\n",
    "\n",
    "optimizer = torch.optim.Adam(model.parameters(), lr = learning_rate)"
   ]
  },
  {
   "cell_type": "code",
   "execution_count": null,
   "metadata": {},
   "outputs": [
    {
     "name": "stdout",
     "output_type": "stream",
     "text": [
      "0\n",
      "1\n"
     ]
    }
   ],
   "source": [
    "for epoch in range(epochs):\n",
    "    \n",
    "   \n",
    "    train_dataloader = bce_getTrain(4, train_batch_size)\n",
    "    \n",
    "    print(epoch)\n",
    "    for idx, batch_data in enumerate(train_dataloader):\n",
    "        user = batch_data['user'].long().to(device)\n",
    "        item = batch_data['item'].long().to(device)\n",
    "\n",
    "        #label = batch_data['label'].long().to(device) # for BCE\n",
    "        label = batch_data['label'].float().to(device) # for MSE\n",
    "   \n",
    "        \n",
    "        model.zero_grad()\n",
    "           \n",
    "        x_ij = torch.sigmoid(model(user, item))\n",
    "        \n",
    "        loss = loss_function(x_ij, label)\n",
    "             \n",
    "        loss.backward()\n",
    "        \n",
    "        optimizer.step()"
   ]
  },
  {
   "cell_type": "code",
   "execution_count": null,
   "metadata": {},
   "outputs": [],
   "source": []
  }
 ],
 "metadata": {
  "kernelspec": {
   "display_name": "Python 3",
   "language": "python",
   "name": "python3"
  },
  "language_info": {
   "codemirror_mode": {
    "name": "ipython",
    "version": 3
   },
   "file_extension": ".py",
   "mimetype": "text/x-python",
   "name": "python",
   "nbconvert_exporter": "python",
   "pygments_lexer": "ipython3",
   "version": "3.7.9"
  }
 },
 "nbformat": 4,
 "nbformat_minor": 2
}
