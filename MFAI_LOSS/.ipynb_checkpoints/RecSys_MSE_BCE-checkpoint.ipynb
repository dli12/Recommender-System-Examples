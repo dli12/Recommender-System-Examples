{
 "cells": [
  {
   "cell_type": "code",
   "execution_count": 1,
   "metadata": {},
   "outputs": [],
   "source": [
    "import pandas as pd\n",
    "import os\n",
    "import numpy as np\n",
    "\n",
    "\n",
    "import torch\n",
    "import torch.nn as nn\n",
    "from torch.utils.data import Dataset, DataLoader"
   ]
  },
  {
   "cell_type": "markdown",
   "metadata": {},
   "source": [
    "# Data Process"
   ]
  },
  {
   "cell_type": "code",
   "execution_count": 2,
   "metadata": {},
   "outputs": [],
   "source": [
    "user_size = 6040\n",
    "item_size = 3760"
   ]
  },
  {
   "cell_type": "code",
   "execution_count": 3,
   "metadata": {},
   "outputs": [],
   "source": [
    "DATA_DIR = './processed_data/ml-1m/'"
   ]
  },
  {
   "cell_type": "code",
   "execution_count": 4,
   "metadata": {},
   "outputs": [],
   "source": [
    "train_df = pd.read_csv(os.path.join(DATA_DIR,'train.csv'), usecols = ['user','item'], header = 0)"
   ]
  },
  {
   "cell_type": "code",
   "execution_count": 5,
   "metadata": {},
   "outputs": [],
   "source": [
    "movieId_set = set(np.arange(item_size))\n",
    "\n",
    "u_dict = train_df.groupby('user')['item'].apply(list).to_dict()"
   ]
  },
  {
   "cell_type": "code",
   "execution_count": 6,
   "metadata": {},
   "outputs": [],
   "source": [
    "class BPRDataset(Dataset):\n",
    "\n",
    "    def __init__(self, users, pos_items, neg_items):\n",
    "\n",
    "        self.users = users\n",
    "        self.pos_items = pos_items\n",
    "        self.neg_items = neg_items\n",
    "\n",
    "    def __len__(self):\n",
    "\n",
    "        return len(self.users)\n",
    "\n",
    "    def __getitem__(self, idx):\n",
    "\n",
    "        user = self.users[idx]\n",
    "        pos_item = self.pos_items[idx]\n",
    "        neg_item = self.neg_items[idx]\n",
    "\n",
    "        sample = {'user':user, 'pos_item':pos_item, 'neg_item':neg_item}\n",
    "\n",
    "        return sample"
   ]
  },
  {
   "cell_type": "code",
   "execution_count": 18,
   "metadata": {},
   "outputs": [],
   "source": [
    "def bpr_getTrain(N, train_batch_size):\n",
    "\n",
    "        train_u = []\n",
    "        train_pos_i = []\n",
    "        train_neg_i = []\n",
    "        \n",
    "        u_list = train_df['user'].values\n",
    "        i_list = train_df['item'].values\n",
    "        #u_dict = train_df.groupby('user')['item'].apply(list).to_dict()\n",
    "        \n",
    "        for index in range(len(u_list)):\n",
    "            \n",
    "            u = u_list[index]\n",
    "            i = i_list[index]\n",
    "            train_u.extend([u]*(N))\n",
    "            train_pos_i.extend([i]*(N))\n",
    "        \n",
    "            PositiveSet = set(u_dict[u]) \n",
    "\n",
    "            for t in range(N):# sample negative items\n",
    "                neg_i = np.random.randint(0, item_size)\n",
    "                while neg_i in PositiveSet:\n",
    "                    neg_i = np.random.randint(0, item_size)\n",
    "                train_neg_i.append(neg_i)\n",
    "\n",
    "        train_dataset = BPRDataset(train_u, train_pos_i, train_neg_i)\n",
    "        \n",
    "        train_dataloader = DataLoader(train_dataset,\n",
    "                                      batch_size = train_batch_size, \n",
    "                                      shuffle = True,\n",
    "                                      num_workers = 4,\n",
    "                                      pin_memory = True,\n",
    "                                     )\n",
    "\n",
    "        return train_dataloader"
   ]
  },
  {
   "cell_type": "code",
   "execution_count": 19,
   "metadata": {},
   "outputs": [],
   "source": [
    "train_users = np.repeat(train_df['user'].values, 4).tolist()\n",
    "train_items = np.repeat(train_df['item'].values, 4).tolist()"
   ]
  },
  {
   "cell_type": "markdown",
   "metadata": {},
   "source": [
    "# Model"
   ]
  },
  {
   "cell_type": "code",
   "execution_count": 20,
   "metadata": {},
   "outputs": [],
   "source": [
    "class GMF(nn.Module):\n",
    "    \n",
    "    def __init__(self, user_size, item_size, embed_size):\n",
    "        super().__init__()\n",
    "        \n",
    "        self.user_size = user_size\n",
    "        self.item_size = item_size\n",
    "        self.embed_size = embed_size\n",
    "        \n",
    "        self.embedding_user = nn.Embedding(user_size, embed_size)\n",
    "        nn.init.xavier_uniform_(self.embedding_user.weight)\n",
    "        \n",
    "        self.embedding_item = nn.Embedding(item_size, embed_size)\n",
    "        nn.init.xavier_uniform_(self.embedding_item.weight)\n",
    "        \n",
    "        \n",
    "    def forward(self, user, item):\n",
    "        \n",
    "        user_embedding = self.embedding_user(user)\n",
    "        item_embedding = self.embedding_item(item)\n",
    "        \n",
    "        user_vec = user_embedding.view([-1, embed_size])\n",
    "        item_vec = item_embedding.view([-1, embed_size])\n",
    "        \n",
    "        dot = torch.sum(torch.mul(user_vec, item_vec), dim = 1).view(-1)\n",
    "\n",
    "        return dot"
   ]
  },
  {
   "cell_type": "markdown",
   "metadata": {},
   "source": [
    "# Hyperparameters"
   ]
  },
  {
   "cell_type": "code",
   "execution_count": 21,
   "metadata": {},
   "outputs": [],
   "source": [
    "device = torch.device('cuda:0' if torch.cuda.is_available() else 'cpu')\n",
    "\n",
    "\n",
    "train_batch_size = 128\n",
    "\n",
    "embed_size = 16\n",
    "\n",
    "learning_rate = 0.001\n",
    "\n",
    "epochs = 20"
   ]
  },
  {
   "cell_type": "markdown",
   "metadata": {},
   "source": [
    "# Training "
   ]
  },
  {
   "cell_type": "code",
   "execution_count": 22,
   "metadata": {},
   "outputs": [],
   "source": [
    "model = GMF(user_size, item_size, embed_size).to(device)\n",
    "\n",
    "loss_function = nn.BCEWithLogitsLoss()\n",
    "\n",
    "optimizer = torch.optim.Adam(model.parameters(), lr = learning_rate)"
   ]
  },
  {
   "cell_type": "code",
   "execution_count": null,
   "metadata": {},
   "outputs": [],
   "source": [
    "for epoch in range(epochs):\n",
    "    \n",
    "   \n",
    "    train_dataloader = bpr_getTrain(4, train_batch_size)\n",
    "    \n",
    "    print(epoch)\n",
    "    for idx, batch_data in enumerate(train_dataloader):\n",
    "        user = batch_data['user'].long().to(device)\n",
    "        item_i = batch_data['pos_item'].long().to(device)\n",
    "        item_j = batch_data['neg_item'].long().to(device)\n",
    "        label = torch.ones_like(item_i).float().to(device)\n",
    "        \n",
    "        model.zero_grad()\n",
    "        \n",
    "        dot_i = model(user, item_i)#  [batch_size]\n",
    "        dot_j= model(user, item_j)#  [batch_size]\n",
    "        \n",
    "        x_ij = dot_i - dot_j\n",
    "        \n",
    "        bpr_loss = loss_function(x_ij, label)\n",
    "             \n",
    "        bpr_loss.backward()\n",
    "        \n",
    "        optimizer.step()"
   ]
  },
  {
   "cell_type": "code",
   "execution_count": null,
   "metadata": {},
   "outputs": [],
   "source": []
  }
 ],
 "metadata": {
  "kernelspec": {
   "display_name": "Python 3",
   "language": "python",
   "name": "python3"
  },
  "language_info": {
   "codemirror_mode": {
    "name": "ipython",
    "version": 3
   },
   "file_extension": ".py",
   "mimetype": "text/x-python",
   "name": "python",
   "nbconvert_exporter": "python",
   "pygments_lexer": "ipython3",
   "version": "3.7.9"
  }
 },
 "nbformat": 4,
 "nbformat_minor": 2
}
