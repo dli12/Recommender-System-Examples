{
 "cells": [
  {
   "cell_type": "code",
   "execution_count": 1,
   "metadata": {},
   "outputs": [],
   "source": [
    "import pandas as pd\n",
    "import os\n",
    "import numpy as np\n",
    "import time\n",
    "\n",
    "import torch\n",
    "import torch.nn as nn\n",
    "from torch.utils.data import Dataset, DataLoader"
   ]
  },
  {
   "cell_type": "markdown",
   "metadata": {},
   "source": [
    "# Data Process"
   ]
  },
  {
   "cell_type": "code",
   "execution_count": 2,
   "metadata": {},
   "outputs": [],
   "source": [
    "user_size = 6040\n",
    "item_size = 3760"
   ]
  },
  {
   "cell_type": "code",
   "execution_count": 3,
   "metadata": {},
   "outputs": [],
   "source": [
    "DATA_DIR = './processed_data/ml-1m/'"
   ]
  },
  {
   "cell_type": "code",
   "execution_count": 4,
   "metadata": {},
   "outputs": [],
   "source": [
    "train_df = pd.read_csv(os.path.join(DATA_DIR,'train.csv'), usecols = ['user','item'], header = 0)"
   ]
  },
  {
   "cell_type": "code",
   "execution_count": 5,
   "metadata": {},
   "outputs": [],
   "source": [
    "movieId_set = set(np.arange(item_size))\n",
    "\n",
    "u_dict = train_df.groupby('user')['item'].apply(list).to_dict()"
   ]
  },
  {
   "cell_type": "code",
   "execution_count": 6,
   "metadata": {},
   "outputs": [],
   "source": [
    "class BPRDataset(Dataset):\n",
    "\n",
    "    def __init__(self, users, pos_items, neg_items):\n",
    "\n",
    "        self.users = users\n",
    "        self.pos_items = pos_items\n",
    "        self.neg_items = neg_items\n",
    "\n",
    "    def __len__(self):\n",
    "\n",
    "        return len(self.users)\n",
    "\n",
    "    def __getitem__(self, idx):\n",
    "\n",
    "        user = self.users[idx]\n",
    "        pos_item = self.pos_items[idx]\n",
    "        neg_item = self.neg_items[idx]\n",
    "\n",
    "        sample = {'user':user, 'pos_item':pos_item, 'neg_item':neg_item}\n",
    "\n",
    "        return sample"
   ]
  },
  {
   "cell_type": "code",
   "execution_count": 18,
   "metadata": {},
   "outputs": [],
   "source": [
    "def bpr_getTrain(N, train_batch_size):\n",
    "\n",
    "        train_u = []\n",
    "        train_pos_i = []\n",
    "        train_neg_i = []\n",
    "        \n",
    "        u_list = train_df['user'].values\n",
    "        i_list = train_df['item'].values\n",
    "        #u_dict = train_df.groupby('user')['item'].apply(list).to_dict()\n",
    "        \n",
    "        for index in range(len(u_list)):\n",
    "            \n",
    "            u = u_list[index]\n",
    "            i = i_list[index]\n",
    "            train_u.extend([u]*(N))\n",
    "            train_pos_i.extend([i]*(N))\n",
    "        \n",
    "            PositiveSet = set(u_dict[u]) \n",
    "\n",
    "            for t in range(N):# sample negative items\n",
    "                neg_i = np.random.randint(0, item_size)\n",
    "                while neg_i in PositiveSet:\n",
    "                    neg_i = np.random.randint(0, item_size)\n",
    "                train_neg_i.append(neg_i)\n",
    "\n",
    "        train_dataset = BPRDataset(train_u, train_pos_i, train_neg_i)\n",
    "        \n",
    "        train_dataloader = DataLoader(train_dataset,\n",
    "                                      batch_size = train_batch_size, \n",
    "                                      shuffle = True,\n",
    "                                      num_workers = 4,\n",
    "                                      pin_memory = True,\n",
    "                                     )\n",
    "\n",
    "        return train_dataloader"
   ]
  },
  {
   "cell_type": "markdown",
   "metadata": {},
   "source": [
    "# Model"
   ]
  },
  {
   "cell_type": "code",
   "execution_count": 20,
   "metadata": {},
   "outputs": [],
   "source": [
    "class GMF(nn.Module):\n",
    "    \n",
    "    def __init__(self, user_size, item_size, embed_size):\n",
    "        super().__init__()\n",
    "        \n",
    "        self.user_size = user_size\n",
    "        self.item_size = item_size\n",
    "        self.embed_size = embed_size\n",
    "        \n",
    "        self.embedding_user = nn.Embedding(user_size, embed_size)\n",
    "        nn.init.xavier_uniform_(self.embedding_user.weight)\n",
    "        \n",
    "        self.embedding_item = nn.Embedding(item_size, embed_size)\n",
    "        nn.init.xavier_uniform_(self.embedding_item.weight)\n",
    "        \n",
    "        \n",
    "    def forward(self, user, item):\n",
    "        \n",
    "        user_embedding = self.embedding_user(user)\n",
    "        item_embedding = self.embedding_item(item)\n",
    "        \n",
    "        user_vec = user_embedding.view([-1, embed_size])\n",
    "        item_vec = item_embedding.view([-1, embed_size])\n",
    "        \n",
    "        dot = torch.sum(torch.mul(user_vec, item_vec), dim = 1).view(-1)\n",
    "\n",
    "        return dot"
   ]
  },
  {
   "cell_type": "markdown",
   "metadata": {},
   "source": [
    "# Hyperparameters"
   ]
  },
  {
   "cell_type": "code",
   "execution_count": 21,
   "metadata": {},
   "outputs": [],
   "source": [
    "device = torch.device('cuda:0' if torch.cuda.is_available() else 'cpu')\n",
    "\n",
    "\n",
    "train_batch_size = 128\n",
    "\n",
    "embed_size = 16\n",
    "\n",
    "learning_rate = 0.001\n",
    "\n",
    "epochs = 20"
   ]
  },
  {
   "cell_type": "markdown",
   "metadata": {},
   "source": [
    "# Training "
   ]
  },
  {
   "cell_type": "code",
   "execution_count": 22,
   "metadata": {},
   "outputs": [],
   "source": [
    "model = GMF(user_size, item_size, embed_size).to(device)\n",
    "\n",
    "loss_function = nn.BCEWithLogitsLoss()\n",
    "\n",
    "optimizer = torch.optim.Adam(model.parameters(), lr = learning_rate)"
   ]
  },
  {
   "cell_type": "code",
   "execution_count": 23,
   "metadata": {},
   "outputs": [
    {
     "name": "stdout",
     "output_type": "stream",
     "text": [
      "0\n",
      "1\n",
      "2\n"
     ]
    },
    {
     "name": "stderr",
     "output_type": "stream",
     "text": [
      "Exception in thread Thread-6:\n",
      "Traceback (most recent call last):\n",
      "  File \"/users/kent/dli12/anaconda3/envs/sage91/lib/python3.7/threading.py\", line 926, in _bootstrap_inner\n",
      "    self.run()\n",
      "  File \"/users/kent/dli12/anaconda3/envs/sage91/lib/python3.7/threading.py\", line 870, in run\n",
      "    self._target(*self._args, **self._kwargs)\n",
      "  File \"/users/kent/dli12/anaconda3/envs/sage91/lib/python3.7/site-packages/torch/utils/data/_utils/pin_memory.py\", line 25, in _pin_memory_loop\n",
      "    r = in_queue.get(timeout=MP_STATUS_CHECK_INTERVAL)\n",
      "  File \"/users/kent/dli12/anaconda3/envs/sage91/lib/python3.7/multiprocessing/queues.py\", line 113, in get\n",
      "    return _ForkingPickler.loads(res)\n",
      "  File \"/users/kent/dli12/anaconda3/envs/sage91/lib/python3.7/site-packages/torch/multiprocessing/reductions.py\", line 282, in rebuild_storage_fd\n",
      "    fd = df.detach()\n",
      "  File \"/users/kent/dli12/anaconda3/envs/sage91/lib/python3.7/multiprocessing/resource_sharer.py\", line 57, in detach\n",
      "    with _resource_sharer.get_connection(self._id) as conn:\n",
      "  File \"/users/kent/dli12/anaconda3/envs/sage91/lib/python3.7/multiprocessing/resource_sharer.py\", line 87, in get_connection\n",
      "    c = Client(address, authkey=process.current_process().authkey)\n",
      "  File \"/users/kent/dli12/anaconda3/envs/sage91/lib/python3.7/multiprocessing/connection.py\", line 499, in Client\n",
      "    deliver_challenge(c, authkey)\n",
      "  File \"/users/kent/dli12/anaconda3/envs/sage91/lib/python3.7/multiprocessing/connection.py\", line 730, in deliver_challenge\n",
      "    response = connection.recv_bytes(256)        # reject large message\n",
      "  File \"/users/kent/dli12/anaconda3/envs/sage91/lib/python3.7/multiprocessing/connection.py\", line 216, in recv_bytes\n",
      "    buf = self._recv_bytes(maxlength)\n",
      "  File \"/users/kent/dli12/anaconda3/envs/sage91/lib/python3.7/multiprocessing/connection.py\", line 407, in _recv_bytes\n",
      "    buf = self._recv(4)\n",
      "  File \"/users/kent/dli12/anaconda3/envs/sage91/lib/python3.7/multiprocessing/connection.py\", line 379, in _recv\n",
      "    chunk = read(handle, remaining)\n",
      "ConnectionResetError: [Errno 104] Connection reset by peer\n",
      "\n"
     ]
    },
    {
     "ename": "KeyboardInterrupt",
     "evalue": "",
     "output_type": "error",
     "traceback": [
      "\u001b[0;31m---------------------------------------------------------------------------\u001b[0m",
      "\u001b[0;31mKeyboardInterrupt\u001b[0m                         Traceback (most recent call last)",
      "\u001b[0;32m<ipython-input-23-33541bd0b769>\u001b[0m in \u001b[0;36m<module>\u001b[0;34m()\u001b[0m\n\u001b[1;32m     20\u001b[0m         \u001b[0mbpr_loss\u001b[0m \u001b[0;34m=\u001b[0m \u001b[0mloss_function\u001b[0m\u001b[0;34m(\u001b[0m\u001b[0mx_ij\u001b[0m\u001b[0;34m,\u001b[0m \u001b[0mlabel\u001b[0m\u001b[0;34m)\u001b[0m\u001b[0;34m\u001b[0m\u001b[0;34m\u001b[0m\u001b[0m\n\u001b[1;32m     21\u001b[0m \u001b[0;34m\u001b[0m\u001b[0m\n\u001b[0;32m---> 22\u001b[0;31m         \u001b[0mbpr_loss\u001b[0m\u001b[0;34m.\u001b[0m\u001b[0mbackward\u001b[0m\u001b[0;34m(\u001b[0m\u001b[0;34m)\u001b[0m\u001b[0;34m\u001b[0m\u001b[0;34m\u001b[0m\u001b[0m\n\u001b[0m\u001b[1;32m     23\u001b[0m \u001b[0;34m\u001b[0m\u001b[0m\n\u001b[1;32m     24\u001b[0m         \u001b[0moptimizer\u001b[0m\u001b[0;34m.\u001b[0m\u001b[0mstep\u001b[0m\u001b[0;34m(\u001b[0m\u001b[0;34m)\u001b[0m\u001b[0;34m\u001b[0m\u001b[0;34m\u001b[0m\u001b[0m\n",
      "\u001b[0;32m/users/kent/dli12/anaconda3/envs/sage91/lib/python3.7/site-packages/torch/tensor.py\u001b[0m in \u001b[0;36mbackward\u001b[0;34m(self, gradient, retain_graph, create_graph)\u001b[0m\n\u001b[1;32m    183\u001b[0m                 \u001b[0mproducts\u001b[0m\u001b[0;34m.\u001b[0m \u001b[0mDefaults\u001b[0m \u001b[0mto\u001b[0m\u001b[0;31m \u001b[0m\u001b[0;31m`\u001b[0m\u001b[0;31m`\u001b[0m\u001b[0;32mFalse\u001b[0m\u001b[0;31m`\u001b[0m\u001b[0;31m`\u001b[0m\u001b[0;34m.\u001b[0m\u001b[0;34m\u001b[0m\u001b[0;34m\u001b[0m\u001b[0m\n\u001b[1;32m    184\u001b[0m         \"\"\"\n\u001b[0;32m--> 185\u001b[0;31m         \u001b[0mtorch\u001b[0m\u001b[0;34m.\u001b[0m\u001b[0mautograd\u001b[0m\u001b[0;34m.\u001b[0m\u001b[0mbackward\u001b[0m\u001b[0;34m(\u001b[0m\u001b[0mself\u001b[0m\u001b[0;34m,\u001b[0m \u001b[0mgradient\u001b[0m\u001b[0;34m,\u001b[0m \u001b[0mretain_graph\u001b[0m\u001b[0;34m,\u001b[0m \u001b[0mcreate_graph\u001b[0m\u001b[0;34m)\u001b[0m\u001b[0;34m\u001b[0m\u001b[0;34m\u001b[0m\u001b[0m\n\u001b[0m\u001b[1;32m    186\u001b[0m \u001b[0;34m\u001b[0m\u001b[0m\n\u001b[1;32m    187\u001b[0m     \u001b[0;32mdef\u001b[0m \u001b[0mregister_hook\u001b[0m\u001b[0;34m(\u001b[0m\u001b[0mself\u001b[0m\u001b[0;34m,\u001b[0m \u001b[0mhook\u001b[0m\u001b[0;34m)\u001b[0m\u001b[0;34m:\u001b[0m\u001b[0;34m\u001b[0m\u001b[0;34m\u001b[0m\u001b[0m\n",
      "\u001b[0;32m/users/kent/dli12/anaconda3/envs/sage91/lib/python3.7/site-packages/torch/autograd/__init__.py\u001b[0m in \u001b[0;36mbackward\u001b[0;34m(tensors, grad_tensors, retain_graph, create_graph, grad_variables)\u001b[0m\n\u001b[1;32m    125\u001b[0m     Variable._execution_engine.run_backward(\n\u001b[1;32m    126\u001b[0m         \u001b[0mtensors\u001b[0m\u001b[0;34m,\u001b[0m \u001b[0mgrad_tensors\u001b[0m\u001b[0;34m,\u001b[0m \u001b[0mretain_graph\u001b[0m\u001b[0;34m,\u001b[0m \u001b[0mcreate_graph\u001b[0m\u001b[0;34m,\u001b[0m\u001b[0;34m\u001b[0m\u001b[0;34m\u001b[0m\u001b[0m\n\u001b[0;32m--> 127\u001b[0;31m         allow_unreachable=True)  # allow_unreachable flag\n\u001b[0m\u001b[1;32m    128\u001b[0m \u001b[0;34m\u001b[0m\u001b[0m\n\u001b[1;32m    129\u001b[0m \u001b[0;34m\u001b[0m\u001b[0m\n",
      "\u001b[0;31mKeyboardInterrupt\u001b[0m: "
     ]
    }
   ],
   "source": [
    "for epoch in range(epochs):\n",
    "    \n",
    "   \n",
    "    train_dataloader = bpr_getTrain(4, train_batch_size)\n",
    "    \n",
    "    print(epoch)\n",
    "    for idx, batch_data in enumerate(train_dataloader):\n",
    "        user = batch_data['user'].long().to(device)\n",
    "        item_i = batch_data['pos_item'].long().to(device)\n",
    "        item_j = batch_data['neg_item'].long().to(device)\n",
    "        label = torch.ones_like(item_i).float().to(device)\n",
    "        \n",
    "        model.zero_grad()\n",
    "        \n",
    "        dot_i = model(user, item_i)#  [batch_size]\n",
    "        dot_j= model(user, item_j)#  [batch_size]\n",
    "        \n",
    "        x_ij = dot_i - dot_j\n",
    "        \n",
    "        bpr_loss = loss_function(x_ij, label)\n",
    "             \n",
    "        bpr_loss.backward()\n",
    "        \n",
    "        optimizer.step()"
   ]
  },
  {
   "cell_type": "code",
   "execution_count": null,
   "metadata": {},
   "outputs": [],
   "source": []
  }
 ],
 "metadata": {
  "kernelspec": {
   "display_name": "Python 3",
   "language": "python",
   "name": "python3"
  },
  "language_info": {
   "codemirror_mode": {
    "name": "ipython",
    "version": 3
   },
   "file_extension": ".py",
   "mimetype": "text/x-python",
   "name": "python",
   "nbconvert_exporter": "python",
   "pygments_lexer": "ipython3",
   "version": "3.7.9"
  }
 },
 "nbformat": 4,
 "nbformat_minor": 2
}
